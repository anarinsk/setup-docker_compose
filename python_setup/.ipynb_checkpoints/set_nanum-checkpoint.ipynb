{
 "cells": [
  {
   "cell_type": "code",
   "execution_count": 4,
   "id": "90831845-b881-46db-b685-c591eaf1e891",
   "metadata": {},
   "outputs": [
    {
     "name": "stdout",
     "output_type": "stream",
     "text": [
      "# 설정 되어있는 폰트 사이즈\n",
      "10.0\n",
      "# 설정 되어있는 폰트 글꼴\n",
      "['sans-serif']\n"
     ]
    }
   ],
   "source": [
    "# 기본 설정 읽기\n",
    "import matplotlib.pyplot as plt\n",
    "\n",
    "# size, family\n",
    "print('# 설정 되어있는 폰트 사이즈')\n",
    "print (plt.rcParams['font.size']) \n",
    "print('# 설정 되어있는 폰트 글꼴')\n",
    "print (plt.rcParams['font.family'])"
   ]
  },
  {
   "cell_type": "code",
   "execution_count": 1,
   "id": "3ab39c51-d22a-47a5-b320-54096d9cd54d",
   "metadata": {},
   "outputs": [
    {
     "name": "stdout",
     "output_type": "stream",
     "text": [
      "/home/jovyan/.cache/matplotlib\n"
     ]
    }
   ],
   "source": [
    "# Find Cache location\n",
    "import matplotlib as mpl\n",
    "print(mpl.get_cachedir())\n",
    "#mpl.matplotlib_fname()"
   ]
  },
  {
   "cell_type": "code",
   "execution_count": 5,
   "id": "eb7fc272-06d7-4c87-90bd-f0a00336390e",
   "metadata": {},
   "outputs": [],
   "source": [
    "# 기본 설정\n",
    "plt.rcParams[\"font.family\"] = 'NanumGothic'\n",
    "plt.rcParams[\"font.size\"] = 10\n",
    "plt.rcParams[\"figure.figsize\"] = (14,4)"
   ]
  },
  {
   "cell_type": "code",
   "execution_count": 6,
   "id": "934e79ad-a5d5-4115-a836-1d2b3e0840b8",
   "metadata": {},
   "outputs": [
    {
     "data": {
      "image/png": "[encoded data removed]",
      "text/plain": [
       "<Figure size 1008x288 with 1 Axes>"
      ]
     },
     "metadata": {
      "needs_background": "light"
     },
     "output_type": "display_data"
    }
   ],
   "source": [
    "# 테스트 \n",
    "\n",
    "plt.scatter([0, 1, 2, 3, 4, 5], [0, 1, 2, 3, 4, 5])\n",
    "plt.title('산점도')\n",
    "plt.xlabel('변수1')\n",
    "plt.ylabel('변수2')\n",
    "plt.grid(True)\n",
    "plt.show()"
   ]
  },
  {
   "cell_type": "code",
   "execution_count": null,
   "id": "0315bd81-5f55-458b-bd9b-d3068412dd5e",
   "metadata": {},
   "outputs": [],
   "source": []
  }
 ],
 "metadata": {
  "kernelspec": {
   "display_name": "Python 3 (ipykernel)",
   "language": "python",
   "name": "python3"
  },
  "language_info": {
   "codemirror_mode": {
    "name": "ipython",
    "version": 3
   },
   "file_extension": ".py",
   "mimetype": "text/x-python",
   "name": "python",
   "nbconvert_exporter": "python",
   "pygments_lexer": "ipython3",
   "version": "3.9.7"
  }
 },
 "nbformat": 4,
 "nbformat_minor": 5
}
