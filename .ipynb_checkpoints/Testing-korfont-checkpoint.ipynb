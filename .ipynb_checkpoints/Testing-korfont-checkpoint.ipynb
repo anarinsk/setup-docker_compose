{
 "cells": [
  {
   "cell_type": "code",
   "execution_count": null,
   "id": "d549a71f-946f-496c-8336-c4c72b7a83a1",
   "metadata": {},
   "outputs": [],
   "source": [
    "#!pip install -U matplotlib"
   ]
  },
  {
   "cell_type": "code",
   "execution_count": 1,
   "id": "998c3c50-2729-42d1-8a4f-db0f63035db0",
   "metadata": {},
   "outputs": [],
   "source": [
    "import matplotlib.pyplot as plt\n",
    "import matplotlib as mpl\n",
    "from matplotlib import rc, font_manager\n",
    "\n",
    "font_fname = '/usr/share/fonts/truetype/nanum/NanumGothic.ttf'\n",
    "prop = font_manager.FontProperties(fname=font_fname)\n",
    "mpl.rcParams['font.family'] = 'NanumGothic'\n",
    "mpl.rcParams['axes.unicode_minus']  = False\n",
    "#mpl.font_manager._rebuild()"
   ]
  },
  {
   "cell_type": "code",
   "execution_count": 2,
   "id": "18368018-5dcc-4208-a07f-60b722d46da7",
   "metadata": {},
   "outputs": [
    {
     "data": {
      "text/plain": [
       "[('NanumMyeongjo', '/usr/share/fonts/truetype/nanum/NanumMyeongjo.ttf'),\n",
       " ('NanumMyeongjo',\n",
       "  '/usr/share/fonts/truetype/nanum/NanumMyeongjoExtraBold.ttf'),\n",
       " ('NanumGothic', '/usr/share/fonts/truetype/nanum/NanumGothic.ttf'),\n",
       " ('NanumBarunGothic',\n",
       "  '/usr/share/fonts/truetype/nanum/NanumBarunGothicLight.ttf'),\n",
       " ('NanumGothic Eco', '/usr/share/fonts/truetype/nanum/NanumGothicEcoBold.ttf'),\n",
       " ('NanumSquareRound', '/usr/share/fonts/truetype/nanum/NanumSquareRoundB.ttf'),\n",
       " ('NanumGothicCoding',\n",
       "  '/usr/share/fonts/truetype/nanum/NanumGothicCoding-Bold.ttf'),\n",
       " ('NanumSquareRound',\n",
       "  '/usr/share/fonts/truetype/nanum/NanumSquareRoundEB.ttf'),\n",
       " ('NanumBarunGothic',\n",
       "  '/usr/share/fonts/truetype/nanum/NanumBarunGothicUltraLight.ttf'),\n",
       " ('Nanum Pen Script', '/usr/share/fonts/truetype/nanum/NanumPen.ttf'),\n",
       " ('NanumBarunpen', '/usr/share/fonts/truetype/nanum/NanumBarunpenR.ttf'),\n",
       " ('NanumSquare', '/usr/share/fonts/truetype/nanum/NanumSquareB.ttf'),\n",
       " ('NanumGothic Eco',\n",
       "  '/usr/share/fonts/truetype/nanum/NanumGothicEcoExtraBold.ttf'),\n",
       " ('NanumGothic', '/usr/share/fonts/truetype/nanum/NanumGothicLight.ttf'),\n",
       " ('NanumSquareRound', '/usr/share/fonts/truetype/nanum/NanumSquareRoundL.ttf'),\n",
       " ('Nanum Brush Script', '/usr/share/fonts/truetype/nanum/NanumBrush.ttf'),\n",
       " ('NanumSquare', '/usr/share/fonts/truetype/nanum/NanumSquareL.ttf'),\n",
       " ('NanumMyeongjo Eco', '/usr/share/fonts/truetype/nanum/NanumMyeongjoEco.ttf'),\n",
       " ('NanumGothic', '/usr/share/fonts/truetype/nanum/NanumGothicBold.ttf'),\n",
       " ('NanumGothic', '/usr/share/fonts/truetype/nanum/NanumGothicExtraBold.ttf'),\n",
       " ('NanumGothic Eco', '/usr/share/fonts/truetype/nanum/NanumGothicEco.ttf'),\n",
       " ('NanumGothicCoding',\n",
       "  '/usr/share/fonts/truetype/nanum/NanumGothicCoding.ttf'),\n",
       " ('NanumMyeongjo Eco',\n",
       "  '/usr/share/fonts/truetype/nanum/NanumMyeongjoEcoBold.ttf'),\n",
       " ('NanumBarunGothic', '/usr/share/fonts/truetype/nanum/NanumBarunGothic.ttf'),\n",
       " ('NanumSquare', '/usr/share/fonts/truetype/nanum/NanumSquareEB.ttf'),\n",
       " ('NanumSquareRound', '/usr/share/fonts/truetype/nanum/NanumSquareRoundR.ttf'),\n",
       " ('NanumMyeongjo', '/usr/share/fonts/truetype/nanum/NanumMyeongjoBold.ttf'),\n",
       " ('NanumSquare', '/usr/share/fonts/truetype/nanum/NanumSquareR.ttf'),\n",
       " ('NanumMyeongjo Eco',\n",
       "  '/usr/share/fonts/truetype/nanum/NanumMyeongjoEcoExtraBold.ttf'),\n",
       " ('NanumBarunGothic',\n",
       "  '/usr/share/fonts/truetype/nanum/NanumBarunGothicBold.ttf'),\n",
       " ('NanumBarunpen', '/usr/share/fonts/truetype/nanum/NanumBarunpenB.ttf')]"
      ]
     },
     "execution_count": 2,
     "metadata": {},
     "output_type": "execute_result"
    }
   ],
   "source": [
    "font_list = font_manager.findSystemFonts(fontpaths=None, fontext='ttf')\n",
    "font_list # See full font list \n",
    "[(f.name, f.fname) for f in font_manager.fontManager.ttflist if 'Nanum' in f.name] # See nanum list "
   ]
  },
  {
   "cell_type": "code",
   "execution_count": 3,
   "id": "fb87434a-bcfd-44f5-85c3-f45a2327ede0",
   "metadata": {},
   "outputs": [
    {
     "data": {
      "text/plain": [
       "array([ -41,  -82, -140, -237, -166, -130, -184, -276, -239, -312, -245,\n",
       "       -249, -177, -121,  -27,   32,  129,  205,  259,  224,  171,  195,\n",
       "        280,  259,  267,  214,  301,  217,  236,  144,   75,   87,  149,\n",
       "        117,  174,  176,  143,  192,  165,  171,  202,  194,  208,  117,\n",
       "         23,   16,   23,  111,   61,  -39])"
      ]
     },
     "execution_count": 3,
     "metadata": {},
     "output_type": "execute_result"
    }
   ],
   "source": [
    "import numpy as np\n",
    "\n",
    "data = np.random.randint(-100, 100, 50).cumsum()\n",
    "data"
   ]
  },
  {
   "cell_type": "code",
   "execution_count": 4,
   "id": "4f27256b-5ad9-4922-800e-b98a4fed86bb",
   "metadata": {},
   "outputs": [
    {
     "data": {
      "image/png": "[encoded data removed]",
      "text/plain": [
       "<Figure size 432x288 with 1 Axes>"
      ]
     },
     "metadata": {
      "needs_background": "light"
     },
     "output_type": "display_data"
    }
   ],
   "source": [
    "\n",
    "plt.plot(range(50), data, 'r')\n",
    "plt.title('시간별 가격 추이')\n",
    "plt.ylabel('주식 가격')\n",
    "plt.xlabel('시간(분)')\n",
    "plt.style.use('seaborn-pastel')\n",
    "plt.show()"
   ]
  }
 ],
 "metadata": {
  "kernelspec": {
   "display_name": "Python 3",
   "language": "python",
   "name": "python3"
  },
  "language_info": {
   "codemirror_mode": {
    "name": "ipython",
    "version": 3
   },
   "file_extension": ".py",
   "mimetype": "text/x-python",
   "name": "python",
   "nbconvert_exporter": "python",
   "pygments_lexer": "ipython3",
   "version": "3.8.8"
  }
 },
 "nbformat": 4,
 "nbformat_minor": 5
}
